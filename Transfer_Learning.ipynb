{
  "nbformat": 4,
  "nbformat_minor": 0,
  "metadata": {
    "colab": {
      "name": "Untitled3.ipynb",
      "provenance": [],
      "authorship_tag": "ABX9TyOaaPuEUVghO+YsYr+xHq3w"
    },
    "kernelspec": {
      "name": "python3",
      "display_name": "Python 3"
    }
  },
  "cells": [
    {
      "cell_type": "code",
      "metadata": {
        "id": "iSX6WZVYxfg8",
        "colab_type": "code",
        "colab": {}
      },
      "source": [
        "from google.colab import files\n",
        "files.upload()"
      ],
      "execution_count": 0,
      "outputs": []
    },
    {
      "cell_type": "code",
      "metadata": {
        "id": "obRAkkTFxrzO",
        "colab_type": "code",
        "colab": {}
      },
      "source": [
        " ! mkdir ~/.kaggle "
      ],
      "execution_count": 0,
      "outputs": []
    },
    {
      "cell_type": "code",
      "metadata": {
        "id": "Pr_uUTjCx4-u",
        "colab_type": "code",
        "colab": {}
      },
      "source": [
        "\n",
        "! cp kaggle.json ~/.kaggle/"
      ],
      "execution_count": 0,
      "outputs": []
    },
    {
      "cell_type": "code",
      "metadata": {
        "id": "kvkSl-bzx-cH",
        "colab_type": "code",
        "colab": {}
      },
      "source": [
        "! chmod 600 ~/.kaggle/kaggle.json"
      ],
      "execution_count": 0,
      "outputs": []
    },
    {
      "cell_type": "code",
      "metadata": {
        "id": "nxx5vQNqyBQO",
        "colab_type": "code",
        "colab": {}
      },
      "source": [
        "!kaggle datasets download -d pmigdal/alien-vs-predator-images"
      ],
      "execution_count": 0,
      "outputs": []
    },
    {
      "cell_type": "code",
      "metadata": {
        "id": "_5cC60hsyIyY",
        "colab_type": "code",
        "colab": {}
      },
      "source": [
        "! mkdir alien-vs-predator"
      ],
      "execution_count": 0,
      "outputs": []
    },
    {
      "cell_type": "code",
      "metadata": {
        "id": "_OgfAE-6yR-Z",
        "colab_type": "code",
        "colab": {}
      },
      "source": [
        "! unzip alien-vs-predator-images.zip -d alien-vs-predator"
      ],
      "execution_count": 0,
      "outputs": []
    },
    {
      "cell_type": "code",
      "metadata": {
        "id": "jb11fxW8ycTB",
        "colab_type": "code",
        "colab": {}
      },
      "source": [
        "from keras.applications.resnet50 import ResNet50, preprocess_input"
      ],
      "execution_count": 0,
      "outputs": []
    },
    {
      "cell_type": "code",
      "metadata": {
        "id": "hXyt2emby9tV",
        "colab_type": "code",
        "colab": {}
      },
      "source": [
        "Height,Width=300,300\n",
        "base_model=ResNet50(weights='imagenet',include_top=False,input_shape=(Height,Width,3))"
      ],
      "execution_count": 0,
      "outputs": []
    },
    {
      "cell_type": "code",
      "metadata": {
        "id": "znERT6vSzO27",
        "colab_type": "code",
        "colab": {}
      },
      "source": [
        "train_dir='/content/alien-vs-predator/data/train'\n",
        "batch_size=16"
      ],
      "execution_count": 0,
      "outputs": []
    },
    {
      "cell_type": "code",
      "metadata": {
        "id": "ZzAfTGaxzgyN",
        "colab_type": "code",
        "colab": {}
      },
      "source": [
        "from keras.preprocessing.image import ImageDataGenerator\n",
        "train_datagen=ImageDataGenerator(preprocessing_function=preprocess_input,rotation_range=90,horizontal_flip=True,vertical_flip=True,shear_range=0.2)"
      ],
      "execution_count": 0,
      "outputs": []
    },
    {
      "cell_type": "code",
      "metadata": {
        "id": "6CD5sU_-0GlU",
        "colab_type": "code",
        "colab": {}
      },
      "source": [
        "train_generator=train_datagen.flow_from_directory(train_dir,target_size=(Height,Width),batch_size=batch_size)"
      ],
      "execution_count": 0,
      "outputs": []
    },
    {
      "cell_type": "code",
      "metadata": {
        "id": "6U8zbpk20pCk",
        "colab_type": "code",
        "colab": {}
      },
      "source": [
        "from keras.layers import Dense,Activation,Flatten,Dropout\n",
        "from keras.models import Sequential,Model"
      ],
      "execution_count": 0,
      "outputs": []
    },
    {
      "cell_type": "code",
      "metadata": {
        "id": "jfB7zLOf11uS",
        "colab_type": "code",
        "colab": {}
      },
      "source": [
        "def build_finetune_model(base_model,dropout,fc_layers,num_classes):\n",
        "  for layer in base_model.layers:\n",
        "    layer.trainable=False\n",
        "  x=base_model.output\n",
        "  x=Flatten()(x)\n",
        "  for fc in fc_layers:\n",
        "    x=Dense(fc,activation='relu')(x)\n",
        "    x=Dropout(dropout)(x)\n",
        "\n",
        "  predictions=Dense(num_classes,activation='sigmoid')(x)\n",
        "  finetune_model=Model(inputs=base_model.input,outputs=predictions)\n",
        "  return finetune_model"
      ],
      "execution_count": 0,
      "outputs": []
    },
    {
      "cell_type": "code",
      "metadata": {
        "id": "QYx0IBJF335I",
        "colab_type": "code",
        "colab": {}
      },
      "source": [
        "class_list=['alien','predators']\n",
        "fc_layers=[1024,1024]\n",
        "dropout=0.5"
      ],
      "execution_count": 0,
      "outputs": []
    },
    {
      "cell_type": "code",
      "metadata": {
        "id": "OJbyz11C4O_K",
        "colab_type": "code",
        "colab": {}
      },
      "source": [
        "finetune_model=build_finetune_model(base_model,dropout=dropout,fc_layers=fc_layers,num_classes=len(class_list))"
      ],
      "execution_count": 0,
      "outputs": []
    },
    {
      "cell_type": "code",
      "metadata": {
        "id": "gHzfjNfQ4eJT",
        "colab_type": "code",
        "colab": {}
      },
      "source": [
        "from keras.optimizers import SGD,Adam\n",
        "from keras.callbacks import ModelCheckpoint\n",
        "import matplotlib.pyplot as plt\n"
      ],
      "execution_count": 0,
      "outputs": []
    },
    {
      "cell_type": "code",
      "metadata": {
        "id": "f_68Ift55WcH",
        "colab_type": "code",
        "colab": {}
      },
      "source": [
        "num_epochs=10\n",
        "batch_size=16\n",
        "num_training_images=694"
      ],
      "execution_count": 0,
      "outputs": []
    },
    {
      "cell_type": "code",
      "metadata": {
        "id": "Ekx-46zE5f8N",
        "colab_type": "code",
        "colab": {}
      },
      "source": [
        "adam=Adam(learning_rate=0.00001)\n",
        "finetune_model.compile(adam,loss='binary_crossentropy',metrics=['accuracy'])\n",
        "filepath=\"./checkpoints/\"+\"ResNet50\"+\"_model_weights.h5\"\n",
        "checkpoint=ModelCheckpoint(filepath=filepath,monitor=[\"acc\"],verbose=1,mode=\"max\")"
      ],
      "execution_count": 0,
      "outputs": []
    },
    {
      "cell_type": "code",
      "metadata": {
        "id": "szdY-kqIBkKY",
        "colab_type": "code",
        "colab": {}
      },
      "source": [
        "!mkdir checkpoints"
      ],
      "execution_count": 0,
      "outputs": []
    },
    {
      "cell_type": "code",
      "metadata": {
        "id": "UUkSXCqh6s5P",
        "colab_type": "code",
        "colab": {}
      },
      "source": [
        "callback_list=[checkpoint]\n",
        "history=finetune_model.fit_generator(train_generator,epochs=num_epochs,steps_per_epoch=num_training_images//batch_size,shuffle=True,callbacks=callback_list)"
      ],
      "execution_count": 0,
      "outputs": []
    },
    {
      "cell_type": "code",
      "metadata": {
        "id": "ofyJYIyY_9Q-",
        "colab_type": "code",
        "colab": {}
      },
      "source": [
        "def plot_training(history):\n",
        "  acc=history.history['accuracy']\n",
        "  print(history.history)\n",
        "  #val_acc=history.history['val_acc']\n",
        "  loss=history.history['loss']\n",
        "  #val_loss=history.history['val_loss']\n",
        "  epochs=range(len(acc))\n",
        "  plt.plot(epochs,acc,'r.')\n",
        "  #plt.plot(epochs,val_acc,'r')\n",
        "  plt.title('Training and validation accuracy')\n",
        "  plt.show()"
      ],
      "execution_count": 0,
      "outputs": []
    },
    {
      "cell_type": "code",
      "metadata": {
        "id": "hgJIyJWvQBsZ",
        "colab_type": "code",
        "colab": {}
      },
      "source": [
        "plot_training(history)"
      ],
      "execution_count": 0,
      "outputs": []
    },
    {
      "cell_type": "code",
      "metadata": {
        "id": "wQWZgvl0QGgT",
        "colab_type": "code",
        "colab": {}
      },
      "source": [
        ""
      ],
      "execution_count": 0,
      "outputs": []
    }
  ]
}